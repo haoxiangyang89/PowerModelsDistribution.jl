{
 "cells": [
  {
   "cell_type": "code",
   "execution_count": 36,
   "metadata": {},
   "outputs": [
    {
     "data": {
      "text/plain": [
       "MathOptInterface.OptimizerWithAttributes(Ipopt.Optimizer, Pair{MathOptInterface.AbstractOptimizerAttribute,Any}[MathOptInterface.RawParameter(\"tol\") => 1.0e-6, MathOptInterface.RawParameter(\"print_level\") => 0])"
      ]
     },
     "execution_count": 36,
     "metadata": {},
     "output_type": "execute_result"
    }
   ],
   "source": [
    "using PowerModelsDistribution\n",
    "using Ipopt\n",
    "\n",
    "ipopt_solver = optimizer_with_attributes(Ipopt.Optimizer, \"tol\"=>1e-6, \"print_level\"=>0)"
   ]
  },
  {
   "cell_type": "code",
   "execution_count": 37,
   "metadata": {},
   "outputs": [
    {
     "name": "stdout",
     "output_type": "stream",
     "text": [
      "\u001b[32m[info | PowerModels]: Circuit has been reset with the \"clear\" on line 2 in \"test2_master.dss\"\u001b[39m\n",
      "\u001b[32m[info | PowerModels]: Redirecting to \"test2_Linecodes.dss\" on line 9 in \"test2_master.dss\"\u001b[39m\n",
      "\u001b[32m[info | PowerModels]: Redirecting to \"test2_Loadshape.dss\" on line 10 in \"test2_master.dss\"\u001b[39m\n",
      "\u001b[35m[warn | PowerModels]: Cannot find load object s844.\u001b[39m\n",
      "\u001b[32m[info | PowerModels]: Reading Buscoords in \"test2_Buscoords.dss\" on line 67 in \"test2_master.dss\"\u001b[39m\n",
      "\u001b[35m[warn | PowerModels]: Command \"solve\" on line 69 in \"test2_master.dss\" is not supported, skipping.\u001b[39m\n",
      "\u001b[35m[warn | PowerModels]: Command \"show\" on line 71 in \"test2_master.dss\" is not supported, skipping.\u001b[39m\n",
      "\u001b[35m[warn | PowerModels]: line.l1: like=something cannot be found\u001b[39m\n",
      "\u001b[35m[warn | PowerModels]: An incorrect number of nodes was specified on b3-1; |2|!=3.\u001b[39m\n",
      "\u001b[35m[warn | PowerModels]: An incorrect number of nodes was specified on b4; |2|!=3.\u001b[39m\n",
      "\u001b[35m[warn | PowerModels]: line.l1: like=something cannot be found\u001b[39m\n",
      "\u001b[35m[warn | PowerModels]: Rg,Xg are not fully supported\u001b[39m\n",
      "\u001b[35m[warn | PowerModels]: reactors as constant impedance elements is not yet supported, treating reactor.reactor1 like line\u001b[39m\n",
      "\u001b[35m[warn | PowerModels]: reactors as constant impedance elements is not yet supported, treating reactor.reactor2 like line\u001b[39m\n"
     ]
    },
    {
     "data": {
      "text/plain": [
       "Dict{String,Any} with 18 entries:\n",
       "  \"xfmrcode\"        => Dict{Any,Any}(\"t1\"=>Dict{String,Any}(\"tm_min\"=>Array{Flo…\n",
       "  \"shunt_reactor\"   => Dict{Any,Any}(\"reactor3\"=>Dict{String,Any}(\"source_id\"=>…\n",
       "  \"bus\"             => Dict{String,Any}(\"b3-1\"=>Dict{String,Any}(\"lat\"=>12.8477…\n",
       "  \"name\"            => \"test2\"\n",
       "  \"settings\"        => Dict{String,Any}(\"v_var_scalar\"=>1000.0,\"sbase\"=>100000.…\n",
       "  \"files\"           => Set([\"test2_Linecodes.dss\", \"test2_master.dss\", \"test2_L…\n",
       "  \"switch\"          => Dict{Any,Any}(\"_l4\"=>Dict{String,Any}(\"length\"=>0.001,\"t…\n",
       "  \"generator\"       => Dict{Any,Any}(\"g2\"=>Dict{String,Any}(\"pg\"=>[1.0],\"connec…\n",
       "  \"loadshape\"       => Dict{Any,Any}(\"default\"=>Dict{String,Any}(\"pmult\"=>[0.5,…\n",
       "  \"shunt_capacitor\" => Dict{Any,Any}(\"c2\"=>Dict{String,Any}(\"source_id\"=>\"capac…\n",
       "  \"voltage_source\"  => Dict{Any,Any}(\"source\"=>Dict{String,Any}(\"source_id\"=>\"v…\n",
       "  \"line\"            => Dict{Any,Any}(\"l7\"=>Dict{String,Any}(\"length\"=>0.0135168…\n",
       "  \"line_reactor\"    => Dict{Any,Any}(\"reactor1\"=>Dict{String,Any}(\"xs\"=>[0.0 0.…\n",
       "  \"data_model\"      => \"engineering\"\n",
       "  \"xycurve\"         => Dict{Any,Any}(\"test_curve3\"=>Dict{String,Any}(\"source_id…\n",
       "  \"transformer\"     => Dict{String,Any}(\"t3a\"=>Dict{String,Any}(\"source_id\"=>\"t…\n",
       "  \"load\"            => Dict{String,Any}(\"ld1\"=>Dict{String,Any}(\"source_id\"=>\"l…\n",
       "  \"linecode\"        => Dict{Any,Any}(\"lc7\"=>Dict{String,Any}(\"b_fr\"=>[0.0082021…"
      ]
     },
     "execution_count": 37,
     "metadata": {},
     "output_type": "execute_result"
    }
   ],
   "source": [
    "eng_ex = parse_file(\"../test/data/opendss/test2_master.dss\"; data_model=\"engineering\")"
   ]
  },
  {
   "cell_type": "code",
   "execution_count": 3,
   "metadata": {},
   "outputs": [
    {
     "data": {
      "text/plain": [
       "Dict{String,Any} with 5 entries:\n",
       "  \"v_var_scalar\"   => 1000.0\n",
       "  \"sbase\"          => 100000.0\n",
       "  \"base_bus\"       => \"testsource\"\n",
       "  \"vbase\"          => 66.3953\n",
       "  \"base_frequency\" => 60.0"
      ]
     },
     "execution_count": 3,
     "metadata": {},
     "output_type": "execute_result"
    }
   ],
   "source": [
    "eng_ex[\"settings\"]"
   ]
  },
  {
   "cell_type": "code",
   "execution_count": 4,
   "metadata": {},
   "outputs": [
    {
     "data": {
      "text/plain": [
       "Dict{String,Any} with 12 entries:\n",
       "  \"b3-1\"           => Dict{String,Any}(\"lat\"=>12.8477,\"bus_type\"=>1,\"rg\"=>[0.0]…\n",
       "  \"b8\"             => Dict{String,Any}(\"lat\"=>12.6979,\"bus_type\"=>1,\"rg\"=>[0.0]…\n",
       "  \"b11\"            => Dict{String,Any}(\"bus_type\"=>1,\"rg\"=>Float64[],\"grounded\"…\n",
       "  \"b7\"             => Dict{String,Any}(\"lat\"=>12.9187,\"bus_type\"=>1,\"rg\"=>[0.0]…\n",
       "  \"b9\"             => Dict{String,Any}(\"lat\"=>12.757,\"bus_type\"=>1,\"rg\"=>[0.0],…\n",
       "  \"testsource\"     => Dict{String,Any}(\"bus_type\"=>1,\"rg\"=>[0.0],\"grounded\"=>[4…\n",
       "  \"_b2\"            => Dict{String,Any}(\"lat\"=>12.283,\"bus_type\"=>1,\"rg\"=>[0.0],…\n",
       "  \"b5\"             => Dict{String,Any}(\"lat\"=>12.7396,\"bus_type\"=>1,\"rg\"=>[0.0]…\n",
       "  \"b10\"            => Dict{String,Any}(\"lat\"=>12.0982,\"bus_type\"=>1,\"rg\"=>[0.0]…\n",
       "  \"b6_check-chars\" => Dict{String,Any}(\"lat\"=>12.0391,\"bus_type\"=>1,\"rg\"=>Float…\n",
       "  \"b4\"             => Dict{String,Any}(\"lat\"=>12.371,\"bus_type\"=>1,\"rg\"=>Float6…\n",
       "  \"b1\"             => Dict{String,Any}(\"lat\"=>12.0004,\"bus_type\"=>1,\"rg\"=>[0.0]…"
      ]
     },
     "execution_count": 4,
     "metadata": {},
     "output_type": "execute_result"
    }
   ],
   "source": [
    "eng_ex[\"bus\"]"
   ]
  },
  {
   "cell_type": "code",
   "execution_count": 5,
   "metadata": {},
   "outputs": [
    {
     "data": {
      "text/plain": [
       "Dict{String,Any} with 6 entries:\n",
       "  \"b_fr\" => [0.003125]\n",
       "  \"rs\"   => [0.0015]\n",
       "  \"xs\"   => [0.0]\n",
       "  \"b_to\" => [0.003125]\n",
       "  \"g_to\" => [0.0]\n",
       "  \"g_fr\" => [0.0]"
      ]
     },
     "execution_count": 5,
     "metadata": {},
     "output_type": "execute_result"
    }
   ],
   "source": [
    "eng_ex[\"linecode\"][\"lc1\"]"
   ]
  },
  {
   "cell_type": "code",
   "execution_count": 6,
   "metadata": {},
   "outputs": [
    {
     "data": {
      "text/plain": [
       "Dict{String,Any} with 6 entries:\n",
       "  \"b_fr\" => [0.0082021 -0.00410105; -0.00410105 0.0082021]\n",
       "  \"rs\"   => [0.00164042 0.000410105; 0.000410105 0.00164042]\n",
       "  \"xs\"   => [0.00082021 0.0; 0.0 0.0]\n",
       "  \"b_to\" => [0.0082021 -0.00410105; -0.00410105 0.0082021]\n",
       "  \"g_to\" => [0.0 0.0; 0.0 0.0]\n",
       "  \"g_fr\" => [0.0 0.0; 0.0 0.0]"
      ]
     },
     "execution_count": 6,
     "metadata": {},
     "output_type": "execute_result"
    }
   ],
   "source": [
    "eng_ex[\"linecode\"][\"lc7\"]"
   ]
  },
  {
   "cell_type": "code",
   "execution_count": 7,
   "metadata": {},
   "outputs": [
    {
     "data": {
      "text/plain": [
       "Dict{String,Any} with 10 entries:\n",
       "  \"source_id\"     => \"load.ld1\"\n",
       "  \"name\"          => \"ld1\"\n",
       "  \"vnom\"          => 0.208\n",
       "  \"qd_nom\"        => [0.974926]\n",
       "  \"status\"        => 1\n",
       "  \"model\"         => \"constant_power\"\n",
       "  \"connections\"   => [1, 4]\n",
       "  \"pd_nom\"        => [3.89]\n",
       "  \"bus\"           => \"b7\"\n",
       "  \"configuration\" => \"wye\""
      ]
     },
     "execution_count": 7,
     "metadata": {},
     "output_type": "execute_result"
    }
   ],
   "source": [
    "eng_ex[\"load\"][\"ld1\"]"
   ]
  },
  {
   "cell_type": "code",
   "execution_count": 8,
   "metadata": {},
   "outputs": [
    {
     "data": {
      "text/plain": [
       "Dict{String,Any} with 8 entries:\n",
       "  \"length\"        => 0.001\n",
       "  \"t_connections\" => [1, 2, 3]\n",
       "  \"f_bus\"         => \"b8\"\n",
       "  \"source_id\"     => \"line._l4\"\n",
       "  \"status\"        => 1\n",
       "  \"t_bus\"         => \"b10\"\n",
       "  \"linecode\"      => \"300\"\n",
       "  \"f_connections\" => [1, 2, 3]"
      ]
     },
     "execution_count": 8,
     "metadata": {},
     "output_type": "execute_result"
    }
   ],
   "source": [
    "eng_ex[\"switch\"][\"_l4\"]"
   ]
  },
  {
   "cell_type": "code",
   "execution_count": 9,
   "metadata": {},
   "outputs": [
    {
     "data": {
      "text/plain": [
       "Dict{String,Any} with 8 entries:\n",
       "  \"source_id\"   => \"vsource.source\"\n",
       "  \"rs\"          => [0.001 0.0 0.0; 0.0 0.001 0.0; 0.0 0.0 0.001]\n",
       "  \"va\"          => [30.0, -90.0, 150.0]\n",
       "  \"status\"      => 1\n",
       "  \"connections\" => [1, 2, 3]\n",
       "  \"vm\"          => [73.0348, 73.0348, 73.0348]\n",
       "  \"xs\"          => [0.01 0.0 0.0; 0.0 0.01 0.0; 0.0 0.0 0.01]\n",
       "  \"bus\"         => \"testsource\""
      ]
     },
     "execution_count": 9,
     "metadata": {},
     "output_type": "execute_result"
    }
   ],
   "source": [
    "eng_ex[\"voltage_source\"][\"source\"]"
   ]
  },
  {
   "cell_type": "code",
   "execution_count": 10,
   "metadata": {},
   "outputs": [
    {
     "name": "stdout",
     "output_type": "stream",
     "text": [
      "\u001b[32m[info | PowerModels]: Circuit has been reset with the \"clear\" on line 2 in \"test2_master.dss\"\u001b[39m\n",
      "\u001b[32m[info | PowerModels]: Redirecting to \"test2_Linecodes.dss\" on line 9 in \"test2_master.dss\"\u001b[39m\n",
      "\u001b[32m[info | PowerModels]: Redirecting to \"test2_Loadshape.dss\" on line 10 in \"test2_master.dss\"\u001b[39m\n",
      "\u001b[35m[warn | PowerModels]: Cannot find load object s844.\u001b[39m\n",
      "\u001b[32m[info | PowerModels]: Reading Buscoords in \"test2_Buscoords.dss\" on line 67 in \"test2_master.dss\"\u001b[39m\n",
      "\u001b[35m[warn | PowerModels]: Command \"solve\" on line 69 in \"test2_master.dss\" is not supported, skipping.\u001b[39m\n",
      "\u001b[35m[warn | PowerModels]: Command \"show\" on line 71 in \"test2_master.dss\" is not supported, skipping.\u001b[39m\n",
      "\u001b[35m[warn | PowerModels]: line.l1: like=something cannot be found\u001b[39m\n",
      "\u001b[35m[warn | PowerModels]: An incorrect number of nodes was specified on b3-1; |2|!=3.\u001b[39m\n",
      "\u001b[35m[warn | PowerModels]: An incorrect number of nodes was specified on b4; |2|!=3.\u001b[39m\n",
      "\u001b[35m[warn | PowerModels]: line.l1: like=something cannot be found\u001b[39m\n",
      "\u001b[35m[warn | PowerModels]: Rg,Xg are not fully supported\u001b[39m\n",
      "\u001b[35m[warn | PowerModels]: reactors as constant impedance elements is not yet supported, treating reactor.reactor1 like line\u001b[39m\n",
      "\u001b[35m[warn | PowerModels]: reactors as constant impedance elements is not yet supported, treating reactor.reactor2 like line\u001b[39m\n",
      "\u001b[35m[warn | PowerModels]: branch found with non-positive tap value of 0.0, setting a tap to 1.0 on conductor 1\u001b[39m\n",
      "\u001b[35m[warn | PowerModels]: branch found with non-positive tap value of 0.0, setting a tap to 1.0 on conductor 3\u001b[39m\n",
      "\u001b[35m[warn | PowerModels]: angmin and angmax values are 0, widening these values on branch 7, conductor 1 to +/- 60.0 deg.\u001b[39m\n",
      "\u001b[35m[warn | PowerModels]: angmin and angmax values are 0, widening these values on branch 7, conductor 3 to +/- 60.0 deg.\u001b[39m\n",
      "\u001b[35m[warn | PowerModels]: Updated generator 4 cost function with order 3 to a function of order 2: [100.0, 0.0]\u001b[39m\n",
      "\u001b[35m[warn | PowerModels]: Updated generator 1 cost function with order 3 to a function of order 2: [100.0, 0.0]\u001b[39m\n",
      "\u001b[35m[warn | PowerModels]: Updated generator 2 cost function with order 3 to a function of order 2: [100.0, 0.0]\u001b[39m\n",
      "\u001b[35m[warn | PowerModels]: Updated generator 3 cost function with order 3 to a function of order 2: [100.0, 0.0]\u001b[39m\n"
     ]
    },
    {
     "data": {
      "text/plain": [
       "Dict{String,Any} with 19 entries:\n",
       "  \"bus\"         => Dict{String,Any}(\"24\"=>Dict{String,Any}(\"grounded\"=>Bool[0, …\n",
       "  \"name\"        => \"test2\"\n",
       "  \"dcline\"      => Dict{String,Any}()\n",
       "  \"map\"         => Dict(18=>Dict(:from=>\"l5\",:unmap_function=>:_map_math2eng_li…\n",
       "  \"settings\"    => Dict{String,Any}(\"v_var_scalar\"=>1000.0,\"sbase\"=>100000.0,\"b…\n",
       "  \"gen\"         => Dict{String,Any}(\"4\"=>Dict{String,Any}(\"pg\"=>[0.0, 0.0, 0.0]…\n",
       "  \"branch\"      => Dict{String,Any}(\"24\"=>Dict{String,Any}(\"source_id\"=>\"_virtu…\n",
       "  \"storage\"     => Dict{String,Any}()\n",
       "  \"switch\"      => Dict{String,Any}()\n",
       "  \"basekv\"      => 66.3953\n",
       "  \"baseMVA\"     => 100.0\n",
       "  \"sbase\"       => 100000.0\n",
       "  \"conductors\"  => 3\n",
       "  \"per_unit\"    => true\n",
       "  \"data_model\"  => \"mathematical\"\n",
       "  \"shunt\"       => Dict{String,Any}(\"4\"=>Dict{String,Any}(\"source_id\"=>\"reactor…\n",
       "  \"transformer\" => Dict{String,Any}(\"8\"=>Dict{String,Any}(\"polarity\"=>1,\"tm_min…\n",
       "  \"bus_lookup\"  => Dict{Any,Int64}(\"b3-1\"=>1,\"b8\"=>2,\"b11\"=>3,\"b7\"=>4,\"b9\"=>5,\"…\n",
       "  \"load\"        => Dict{String,Any}(\"4\"=>Dict{String,Any}(\"model\"=>\"constant_cu…"
      ]
     },
     "execution_count": 10,
     "metadata": {},
     "output_type": "execute_result"
    }
   ],
   "source": [
    "math_ex = parse_file(\"../test/data/opendss/test2_master.dss\"; data_model=\"mathematical\")"
   ]
  },
  {
   "cell_type": "code",
   "execution_count": 11,
   "metadata": {},
   "outputs": [
    {
     "data": {
      "text/plain": [
       "Dict{Int64,Dict{Symbol,Any}} with 42 entries:\n",
       "  18 => Dict{Symbol,Any}(:from=>\"l5\",:unmap_function=>:_map_math2eng_line!,:to=…\n",
       "  30 => Dict{Symbol,Any}(:from=>\"ld1\",:unmap_function=>:_map_math2eng_load!,:to…\n",
       "  33 => Dict{Symbol,Any}(:from=>\"ld2\",:unmap_function=>:_map_math2eng_load!,:to…\n",
       "  32 => Dict{Symbol,Any}(:from=>\"ld3\",:unmap_function=>:_map_math2eng_load!,:to…\n",
       "  41 => Dict{Symbol,Any}(:from=>\"g3\",:unmap_function=>:_map_math2eng_generator!…\n",
       "  2  => Dict{Symbol,Any}(:from=>\"b3-1\",:unmap_function=>:_map_math2eng_bus!,:to…\n",
       "  40 => Dict{Symbol,Any}(:from=>\"g1\",:unmap_function=>:_map_math2eng_generator!…\n",
       "  16 => Dict{Symbol,Any}(:from=>\"l8\",:unmap_function=>:_map_math2eng_line!,:to=…\n",
       "  11 => Dict{Symbol,Any}(:from=>\"b6_check-chars\",:unmap_function=>:_map_math2en…\n",
       "  21 => Dict{Symbol,Any}(:from=>\"l1\",:unmap_function=>:_map_math2eng_line!,:to=…\n",
       "  39 => Dict{Symbol,Any}(:from=>\"g2\",:unmap_function=>:_map_math2eng_generator!…\n",
       "  7  => Dict{Symbol,Any}(:from=>\"testsource\",:unmap_function=>:_map_math2eng_bu…\n",
       "  9  => Dict{Symbol,Any}(:from=>\"b5\",:unmap_function=>:_map_math2eng_bus!,:to=>…\n",
       "  25 => Dict{Symbol,Any}(:from=>\"t2\",:unmap_function=>:_map_math2eng_transforme…\n",
       "  10 => Dict{Symbol,Any}(:from=>\"b10\",:unmap_function=>:_map_math2eng_bus!,:to=…\n",
       "  26 => Dict{Symbol,Any}(:from=>\"t1\",:unmap_function=>:_map_math2eng_transforme…\n",
       "  29 => Dict{Symbol,Any}(:from=>\"reactor2\",:unmap_function=>:_map_math2eng_line…\n",
       "  34 => Dict{Symbol,Any}(:from=>\"c2\",:unmap_function=>:_map_math2eng_shunt_capa…\n",
       "  35 => Dict{Symbol,Any}(:from=>\"c1\",:unmap_function=>:_map_math2eng_shunt_capa…\n",
       "  19 => Dict{Symbol,Any}(:from=>\"l3\",:unmap_function=>:_map_math2eng_line!,:to=…\n",
       "  17 => Dict{Symbol,Any}(:from=>\"l2\",:unmap_function=>:_map_math2eng_line!,:to=…\n",
       "  42 => Dict{Symbol,Any}(:from=>\"source\",:unmap_function=>:_map_math2eng_voltag…\n",
       "  8  => Dict{Symbol,Any}(:from=>\"_b2\",:unmap_function=>:_map_math2eng_bus!,:to=…\n",
       "  22 => Dict{Symbol,Any}(:from=>\"_l4\",:unmap_function=>:_map_math2eng_switch!,:…\n",
       "  6  => Dict{Symbol,Any}(:from=>\"b9\",:unmap_function=>:_map_math2eng_bus!,:to=>…\n",
       "  ⋮  => ⋮"
      ]
     },
     "execution_count": 11,
     "metadata": {},
     "output_type": "execute_result"
    }
   ],
   "source": [
    "math_ex[\"map\"]"
   ]
  },
  {
   "cell_type": "code",
   "execution_count": 12,
   "metadata": {},
   "outputs": [
    {
     "data": {
      "text/plain": [
       "Dict{Symbol,Any} with 3 entries:\n",
       "  :from           => \"source\"\n",
       "  :unmap_function => :_map_math2eng_voltage_source!\n",
       "  :to             => [\"gen.4\", \"bus.33\", \"branch.27\"]"
      ]
     },
     "execution_count": 12,
     "metadata": {},
     "output_type": "execute_result"
    }
   ],
   "source": [
    "math_ex[\"map\"][42]"
   ]
  },
  {
   "cell_type": "code",
   "execution_count": 13,
   "metadata": {},
   "outputs": [
    {
     "name": "stdout",
     "output_type": "stream",
     "text": [
      "\u001b[32m[info | PowerModels]: Circuit has been reset with the \"clear\" on line 2 in \"test2_master.dss\"\u001b[39m\n",
      "\u001b[32m[info | PowerModels]: Redirecting to \"test2_Linecodes.dss\" on line 9 in \"test2_master.dss\"\u001b[39m\n",
      "\u001b[32m[info | PowerModels]: Redirecting to \"test2_Loadshape.dss\" on line 10 in \"test2_master.dss\"\u001b[39m\n",
      "\u001b[35m[warn | PowerModels]: Cannot find load object s844.\u001b[39m\n",
      "\u001b[32m[info | PowerModels]: Reading Buscoords in \"test2_Buscoords.dss\" on line 67 in \"test2_master.dss\"\u001b[39m\n",
      "\u001b[35m[warn | PowerModels]: Command \"solve\" on line 69 in \"test2_master.dss\" is not supported, skipping.\u001b[39m\n",
      "\u001b[35m[warn | PowerModels]: Command \"show\" on line 71 in \"test2_master.dss\" is not supported, skipping.\u001b[39m\n"
     ]
    },
    {
     "data": {
      "text/plain": [
       "Dict{String,Any} with 16 entries:\n",
       "  \"xfmrcode\"    => Dict{String,Any}(\"t1\"=>Dict{String,Any}(\"windings\"=>2,\"name\"…\n",
       "  \"reactor\"     => Dict{String,Any}(\"reactor1\"=>Dict{String,Any}(\"name\"=>\"react…\n",
       "  \"circuit\"     => \"test2\"\n",
       "  \"generator\"   => Dict{String,Any}(\"g2\"=>Dict{String,Any}(\"name\"=>\"g2\",\"bus1\"=…\n",
       "  \"vsource\"     => Dict{String,Any}(\"source\"=>Dict{String,Any}(\"name\"=>\"source\"…\n",
       "  \"loadshape\"   => Dict{String,Any}(\"default\"=>Dict{String,Any}(\"pmult\"=>[0.5, …\n",
       "  \"line\"        => Dict{String,Any}(\"_l4\"=>Dict{String,Any}(\"repair\"=>0.0,\"bus2…\n",
       "  \"buscoords\"   => Dict{String,Any}(\"b10\"=>Dict{String,Any}(\"x\"=>49.2303,\"y\"=>1…\n",
       "  \"data_model\"  => \"dss\"\n",
       "  \"options\"     => Dict{String,Any}(\"voltagebases\"=>[115.0, 12.47, 0.48, 0.208])\n",
       "  \"xycurve\"     => Dict{String,Any}(\"test_curve3\"=>Dict{String,Any}(\"name\"=>\"te…\n",
       "  \"transformer\" => Dict{String,Any}(\"t3a\"=>Dict{String,Any}(\"xfmrcode\"=>\"t1\",\"w…\n",
       "  \"filename\"    => Set([\"test2_Linecodes.dss\", \"test2_master.dss\", \"test2_Loads…\n",
       "  \"load\"        => Dict{String,Any}(\"ld1\"=>Dict{String,Any}(\"model\"=>1,\"kv\"=>0.…\n",
       "  \"linecode\"    => Dict{String,Any}(\"lc7\"=>Dict{String,Any}(\"nphases\"=>2,\"name\"…\n",
       "  \"capacitor\"   => Dict{String,Any}(\"c2\"=>Dict{String,Any}(\"name\"=>\"c2\",\"bus1\"=…"
      ]
     },
     "execution_count": 13,
     "metadata": {},
     "output_type": "execute_result"
    }
   ],
   "source": [
    "dss = parse_dss(\"../test/data/opendss/test2_master.dss\")"
   ]
  },
  {
   "cell_type": "code",
   "execution_count": 14,
   "metadata": {},
   "outputs": [
    {
     "data": {
      "text/plain": [
       "Dict{String,Any} with 7 entries:\n",
       "  \"name\"       => \"l7\"\n",
       "  \"bus1\"       => \"_b2\"\n",
       "  \"test_param\" => 100.0\n",
       "  \"prop_order\" => [\"name\", \"like\", \"bus1\", \"bus2\", \"linecode\", \"test_param\"]\n",
       "  \"linecode\"   => \"lc10\"\n",
       "  \"like\"       => \"l2\"\n",
       "  \"bus2\"       => \"b10\""
      ]
     },
     "execution_count": 14,
     "metadata": {},
     "output_type": "execute_result"
    }
   ],
   "source": [
    "dss[\"line\"][\"l7\"]"
   ]
  },
  {
   "cell_type": "code",
   "execution_count": 15,
   "metadata": {},
   "outputs": [
    {
     "name": "stdout",
     "output_type": "stream",
     "text": [
      "\u001b[32m[info | PowerModels]: Circuit has been reset with the \"clear\" on line 2 in \"test2_master.dss\"\u001b[39m\n",
      "\u001b[32m[info | PowerModels]: Redirecting to \"test2_Linecodes.dss\" on line 9 in \"test2_master.dss\"\u001b[39m\n",
      "\u001b[32m[info | PowerModels]: Redirecting to \"test2_Loadshape.dss\" on line 10 in \"test2_master.dss\"\u001b[39m\n",
      "\u001b[35m[warn | PowerModels]: Cannot find load object s844.\u001b[39m\n",
      "\u001b[32m[info | PowerModels]: Reading Buscoords in \"test2_Buscoords.dss\" on line 67 in \"test2_master.dss\"\u001b[39m\n",
      "\u001b[35m[warn | PowerModels]: Command \"solve\" on line 69 in \"test2_master.dss\" is not supported, skipping.\u001b[39m\n",
      "\u001b[35m[warn | PowerModels]: Command \"show\" on line 71 in \"test2_master.dss\" is not supported, skipping.\u001b[39m\n",
      "\u001b[35m[warn | PowerModels]: line.l1: like=something cannot be found\u001b[39m\n",
      "\u001b[35m[warn | PowerModels]: An incorrect number of nodes was specified on b3-1; |2|!=3.\u001b[39m\n",
      "\u001b[35m[warn | PowerModels]: An incorrect number of nodes was specified on b4; |2|!=3.\u001b[39m\n",
      "\u001b[35m[warn | PowerModels]: line.l1: like=something cannot be found\u001b[39m\n",
      "\u001b[35m[warn | PowerModels]: Rg,Xg are not fully supported\u001b[39m\n",
      "\u001b[35m[warn | PowerModels]: reactors as constant impedance elements is not yet supported, treating reactor.reactor1 like line\u001b[39m\n",
      "\u001b[35m[warn | PowerModels]: reactors as constant impedance elements is not yet supported, treating reactor.reactor2 like line\u001b[39m\n"
     ]
    },
    {
     "data": {
      "text/plain": [
       "Dict{String,Any} with 6 entries:\n",
       "  \"length\"   => 0.0321756\n",
       "  \"name\"     => \"l1-2\"\n",
       "  \"bus1\"     => \"b3-1.2\"\n",
       "  \"units\"    => \"km\"\n",
       "  \"linecode\" => \"lc1\"\n",
       "  \"bus2\"     => \"b4.2\""
      ]
     },
     "execution_count": 15,
     "metadata": {},
     "output_type": "execute_result"
    }
   ],
   "source": [
    "eng_import_all = parse_file(\"../test/data/opendss/test2_master.dss\"; data_model=\"engineering\", import_all=true)\n",
    "\n",
    "eng_import_all[\"line\"][\"l1-2\"][\"dss\"]"
   ]
  },
  {
   "cell_type": "code",
   "execution_count": 16,
   "metadata": {},
   "outputs": [
    {
     "name": "stdout",
     "output_type": "stream",
     "text": [
      "\u001b[32m[info | PowerModels]: Circuit has been reset with the \"clear\" on line 1 in \"ut_trans_2w_yy_bank.dss\"\u001b[39m\n",
      "\u001b[35m[warn | PowerModels]: Command \"calcvoltagebases\" on line 53 in \"ut_trans_2w_yy_bank.dss\" is not supported, skipping.\u001b[39m\n",
      "\u001b[35m[warn | PowerModels]: Command \"solve\" on line 56 in \"ut_trans_2w_yy_bank.dss\" is not supported, skipping.\u001b[39m\n"
     ]
    },
    {
     "data": {
      "text/plain": [
       "Dict{String,Any} with 10 entries:\n",
       "  \"xfmrcode\"       => Dict{Any,Any}(\"tx\"=>Dict{String,Any}(\"tm_min\"=>Array{Floa…\n",
       "  \"name\"           => \"ut_trans\"\n",
       "  \"line\"           => Dict{Any,Any}(\"line2\"=>Dict{String,Any}(\"xs\"=>[0.3349 0.0…\n",
       "  \"voltage_source\" => Dict{Any,Any}(\"source\"=>Dict{String,Any}(\"source_id\"=>\"vs…\n",
       "  \"settings\"       => Dict{String,Any}(\"v_var_scalar\"=>1000.0,\"sbase\"=>1000.0,\"…\n",
       "  \"files\"          => Set([\"ut_trans_2w_yy_bank.dss\"])\n",
       "  \"transformer\"    => Dict{String,Any}(\"tx1\"=>Dict{String,Any}(\"polarity\"=>[1, …\n",
       "  \"load\"           => Dict{String,Any}(\"load3\"=>Dict{String,Any}(\"source_id\"=>\"…\n",
       "  \"bus\"            => Dict{String,Any}(\"1\"=>Dict{String,Any}(\"bus_type\"=>1,\"rg\"…\n",
       "  \"data_model\"     => \"engineering\""
      ]
     },
     "execution_count": 16,
     "metadata": {},
     "output_type": "execute_result"
    }
   ],
   "source": [
    "eng = parse_file(\"../test/data/opendss/ut_trans_2w_yy_bank.dss\"; data_model=\"engineering\")"
   ]
  },
  {
   "cell_type": "code",
   "execution_count": 17,
   "metadata": {},
   "outputs": [
    {
     "name": "stdout",
     "output_type": "stream",
     "text": [
      "\u001b[35m[warn | PowerModels]: Updated generator 1 cost function with order 3 to a function of order 2: [1.0, 0.0]\u001b[39m\n",
      "\n",
      "******************************************************************************\n",
      "This program contains Ipopt, a library for large-scale nonlinear optimization.\n",
      " Ipopt is released as open source code under the Eclipse Public License (EPL).\n",
      "         For more information visit http://projects.coin-or.org/Ipopt\n",
      "******************************************************************************\n",
      "\n"
     ]
    },
    {
     "data": {
      "text/plain": [
       "Dict{String,Any} with 10 entries:\n",
       "  \"solve_time\"         => 4.33379\n",
       "  \"optimizer\"          => \"Ipopt\"\n",
       "  \"termination_status\" => LOCALLY_SOLVED\n",
       "  \"dual_status\"        => FEASIBLE_POINT\n",
       "  \"primal_status\"      => FEASIBLE_POINT\n",
       "  \"objective\"          => 0.0\n",
       "  \"solution\"           => Dict{String,Any}(\"voltage_source\"=>Dict{Any,Any}(\"sou…\n",
       "  \"data\"               => Dict{String,Any}(\"name\"=>\"ut_trans\")\n",
       "  \"machine\"            => Dict(\"cpu\"=>\"Intel(R) Core(TM) i7-7920HQ CPU @ 3.10GH…\n",
       "  \"objective_lb\"       => -Inf"
      ]
     },
     "execution_count": 17,
     "metadata": {},
     "output_type": "execute_result"
    }
   ],
   "source": [
    "result_eng = run_mc_pf(eng, ACPPowerModel, ipopt_solver; make_si=false)"
   ]
  },
  {
   "cell_type": "code",
   "execution_count": 18,
   "metadata": {},
   "outputs": [
    {
     "name": "stdout",
     "output_type": "stream",
     "text": [
      "\u001b[35m[warn | PowerModels]: Updated generator 1 cost function with order 3 to a function of order 2: [1.0, 0.0]\u001b[39m\n"
     ]
    },
    {
     "data": {
      "text/plain": [
       "Dict{String,Any} with 19 entries:\n",
       "  \"bus\"         => Dict{String,Any}(\"8\"=>Dict{String,Any}(\"grounded\"=>Bool[0, 0…\n",
       "  \"name\"        => \"ut_trans\"\n",
       "  \"dcline\"      => Dict{String,Any}()\n",
       "  \"map\"         => Dict(2=>Dict(:from=>\"1\",:unmap_function=>:_map_math2eng_bus!…\n",
       "  \"settings\"    => Dict{String,Any}(\"v_var_scalar\"=>1000.0,\"sbase\"=>1000.0,\"bas…\n",
       "  \"gen\"         => Dict{String,Any}(\"1\"=>Dict{String,Any}(\"pg\"=>[0.0, 0.0, 0.0]…\n",
       "  \"branch\"      => Dict{String,Any}(\"4\"=>Dict{String,Any}(\"source_id\"=>\"_virtua…\n",
       "  \"storage\"     => Dict{String,Any}()\n",
       "  \"switch\"      => Dict{String,Any}()\n",
       "  \"basekv\"      => 6.35085\n",
       "  \"baseMVA\"     => 1.0\n",
       "  \"sbase\"       => 1000.0\n",
       "  \"conductors\"  => 3\n",
       "  \"per_unit\"    => true\n",
       "  \"data_model\"  => \"mathematical\"\n",
       "  \"shunt\"       => Dict{String,Any}()\n",
       "  \"transformer\" => Dict{String,Any}(\"1\"=>Dict{String,Any}(\"polarity\"=>1,\"tm_min…\n",
       "  \"bus_lookup\"  => Dict{Any,Int64}(\"1\"=>1,\"sourcebus\"=>2,\"2\"=>3,\"3\"=>4)\n",
       "  \"load\"        => Dict{String,Any}(\"4\"=>Dict{String,Any}(\"model\"=>\"constant_po…"
      ]
     },
     "execution_count": 18,
     "metadata": {},
     "output_type": "execute_result"
    }
   ],
   "source": [
    "math = transform_data_model(eng)"
   ]
  },
  {
   "cell_type": "code",
   "execution_count": 19,
   "metadata": {},
   "outputs": [
    {
     "name": "stdout",
     "output_type": "stream",
     "text": [
      "\u001b[32m[info | PowerModels]: Circuit has been reset with the \"clear\" on line 1 in \"ut_trans_2w_yy_bank.dss\"\u001b[39m\n",
      "\u001b[35m[warn | PowerModels]: Command \"calcvoltagebases\" on line 53 in \"ut_trans_2w_yy_bank.dss\" is not supported, skipping.\u001b[39m\n",
      "\u001b[35m[warn | PowerModels]: Command \"solve\" on line 56 in \"ut_trans_2w_yy_bank.dss\" is not supported, skipping.\u001b[39m\n",
      "\u001b[35m[warn | PowerModels]: Updated generator 1 cost function with order 3 to a function of order 2: [1.0, 0.0]\u001b[39m\n"
     ]
    },
    {
     "data": {
      "text/plain": [
       "true"
      ]
     },
     "execution_count": 19,
     "metadata": {},
     "output_type": "execute_result"
    }
   ],
   "source": [
    "math_from_parse = parse_file(\"../test/data/opendss/ut_trans_2w_yy_bank.dss\"; data_model=\"mathematical\")\n",
    "\n",
    "math_from_parse == math"
   ]
  },
  {
   "cell_type": "code",
   "execution_count": 20,
   "metadata": {},
   "outputs": [
    {
     "data": {
      "text/plain": [
       "Dict{String,Any} with 10 entries:\n",
       "  \"solve_time\"         => 0.0145578\n",
       "  \"optimizer\"          => \"Ipopt\"\n",
       "  \"termination_status\" => LOCALLY_SOLVED\n",
       "  \"dual_status\"        => FEASIBLE_POINT\n",
       "  \"primal_status\"      => FEASIBLE_POINT\n",
       "  \"objective\"          => 0.0\n",
       "  \"solution\"           => Dict{String,Any}(\"baseMVA\"=>1.0,\"branch\"=>Dict{String…\n",
       "  \"data\"               => Dict{String,Any}(\"name\"=>\"ut_trans\")\n",
       "  \"machine\"            => Dict(\"cpu\"=>\"Intel(R) Core(TM) i7-7920HQ CPU @ 3.10GH…\n",
       "  \"objective_lb\"       => -Inf"
      ]
     },
     "execution_count": 20,
     "metadata": {},
     "output_type": "execute_result"
    }
   ],
   "source": [
    "result_math = run_mc_pf(math, ACPPowerModel, ipopt_solver)"
   ]
  },
  {
   "cell_type": "code",
   "execution_count": 21,
   "metadata": {},
   "outputs": [
    {
     "data": {
      "text/plain": [
       "Dict{Any,Any} with 4 entries:\n",
       "  \"sourcebus\" => Dict{String,Any}(\"va\"=>[-8.75226e-8, -120.0, 120.0],\"vm\"=>[6.3…\n",
       "  \"1\"         => Dict{String,Any}(\"va\"=>[0.765392, -119.423, 120.857],\"vm\"=>[6.…\n",
       "  \"2\"         => Dict{String,Any}(\"va\"=>[-0.249838, -120.484, 119.472],\"vm\"=>[1…\n",
       "  \"3\"         => Dict{String,Any}(\"va\"=>[-0.11431, -120.435, 119.578],\"vm\"=>[1.…"
      ]
     },
     "execution_count": 21,
     "metadata": {},
     "output_type": "execute_result"
    }
   ],
   "source": [
    "result_eng[\"solution\"][\"bus\"]"
   ]
  },
  {
   "cell_type": "code",
   "execution_count": 22,
   "metadata": {},
   "outputs": [
    {
     "data": {
      "text/plain": [
       "Dict{String,Any} with 9 entries:\n",
       "  \"8\" => Dict{String,Any}(\"va\"=>[0.0133586, -2.08432, 2.10936],\"vm\"=>[0.92195, …\n",
       "  \"4\" => Dict{String,Any}(\"va\"=>[-0.00199508, -2.10198, 2.08703],\"vm\"=>[0.82944…\n",
       "  \"1\" => Dict{String,Any}(\"va\"=>[0.0133586, -2.08432, 2.10936],\"vm\"=>[0.968047,…\n",
       "  \"5\" => Dict{String,Any}(\"va\"=>[-0.0127852, -2.11267, 2.07185],\"vm\"=>[0.897401…\n",
       "  \"2\" => Dict{String,Any}(\"va\"=>[-1.52756e-9, -2.0944, 2.0944],\"vm\"=>[1.0, 1.0,…\n",
       "  \"7\" => Dict{String,Any}(\"va\"=>[0.0175895, -2.0794, 2.11601],\"vm\"=>[0.916491, …\n",
       "  \"6\" => Dict{String,Any}(\"va\"=>[-0.0043605, -2.10284, 2.08518],\"vm\"=>[0.886299…\n",
       "  \"9\" => Dict{String,Any}(\"va\"=>[0.0, -2.0944, 2.0944],\"vm\"=>[1.0, 1.0, 1.0])\n",
       "  \"3\" => Dict{String,Any}(\"va\"=>[-0.0043605, -2.10284, 2.08518],\"vm\"=>[0.841984…"
      ]
     },
     "execution_count": 22,
     "metadata": {},
     "output_type": "execute_result"
    }
   ],
   "source": [
    "result_math[\"solution\"][\"bus\"]"
   ]
  },
  {
   "cell_type": "code",
   "execution_count": 23,
   "metadata": {},
   "outputs": [
    {
     "data": {
      "text/plain": [
       "Dict{String,Any} with 4 entries:\n",
       "  \"qg_bus\" => [138.242, 162.053, 182.485]\n",
       "  \"qg\"     => [138.242, 162.053, 182.485]\n",
       "  \"pg\"     => [133.06, 155.561, 179.012]\n",
       "  \"pg_bus\" => [133.06, 155.561, 179.012]"
      ]
     },
     "execution_count": 23,
     "metadata": {},
     "output_type": "execute_result"
    }
   ],
   "source": [
    "result_eng[\"solution\"][\"voltage_source\"][\"source\"]"
   ]
  },
  {
   "cell_type": "code",
   "execution_count": 24,
   "metadata": {},
   "outputs": [
    {
     "data": {
      "text/plain": [
       "Dict{String,Any} with 4 entries:\n",
       "  \"qg_bus\" => [0.138242, 0.162053, 0.182485]\n",
       "  \"qg\"     => [0.138242, 0.162053, 0.182485]\n",
       "  \"pg\"     => [0.13306, 0.155561, 0.179012]\n",
       "  \"pg_bus\" => [0.13306, 0.155561, 0.179012]"
      ]
     },
     "execution_count": 24,
     "metadata": {},
     "output_type": "execute_result"
    }
   ],
   "source": [
    "result_math[\"solution\"][\"gen\"][\"1\"]"
   ]
  },
  {
   "cell_type": "code",
   "execution_count": 25,
   "metadata": {},
   "outputs": [
    {
     "name": "stdout",
     "output_type": "stream",
     "text": [
      "\u001b[32m[info | PowerModels]: Circuit has been reset with the \"clear\" on line 1 in \"ut_trans_2w_yy_bank.dss\"\u001b[39m\n",
      "\u001b[35m[warn | PowerModels]: Command \"calcvoltagebases\" on line 53 in \"ut_trans_2w_yy_bank.dss\" is not supported, skipping.\u001b[39m\n",
      "\u001b[35m[warn | PowerModels]: Command \"solve\" on line 56 in \"ut_trans_2w_yy_bank.dss\" is not supported, skipping.\u001b[39m\n"
     ]
    },
    {
     "data": {
      "text/plain": [
       "Dict{String,Any} with 10 entries:\n",
       "  \"xfmrcode\"       => Dict{Any,Any}(\"tx\"=>Dict{String,Any}(\"tm_min\"=>Array{Floa…\n",
       "  \"name\"           => \"ut_trans\"\n",
       "  \"line\"           => Dict{Any,Any}(\"line2\"=>Dict{String,Any}(\"xs\"=>[0.3349 0.0…\n",
       "  \"voltage_source\" => Dict{Any,Any}(\"source\"=>Dict{String,Any}(\"source_id\"=>\"vs…\n",
       "  \"settings\"       => Dict{String,Any}(\"v_var_scalar\"=>1000.0,\"sbase\"=>1000.0,\"…\n",
       "  \"files\"          => Set([\"ut_trans_2w_yy_bank.dss\"])\n",
       "  \"transformer\"    => Dict{String,Any}(\"tx1\"=>Dict{String,Any}(\"polarity\"=>[1, …\n",
       "  \"load\"           => Dict{String,Any}(\"load3\"=>Dict{String,Any}(\"source_id\"=>\"…\n",
       "  \"bus\"            => Dict{String,Any}(\"1\"=>Dict{String,Any}(\"bus_type\"=>1,\"rg\"…\n",
       "  \"data_model\"     => \"engineering\""
      ]
     },
     "execution_count": 25,
     "metadata": {},
     "output_type": "execute_result"
    }
   ],
   "source": [
    "# make_lossless!(eng)\n",
    "\n",
    "eng_lossless = parse_file(\"../test/data/opendss/ut_trans_2w_yy_bank.dss\"; data_model=\"engineering\", transformations=[make_lossless!])"
   ]
  },
  {
   "cell_type": "code",
   "execution_count": 26,
   "metadata": {},
   "outputs": [
    {
     "data": {
      "text/plain": [
       "Dict{String,Any} with 8 entries:\n",
       "  \"source_id\"   => \"vsource.source\"\n",
       "  \"rs\"          => [1.69763e-7 1.57319e-8 1.57319e-8; 1.57319e-8 1.69763e-7 1.5…\n",
       "  \"va\"          => [0.0, -120.0, 120.0]\n",
       "  \"status\"      => 1\n",
       "  \"connections\" => [1, 2, 3]\n",
       "  \"vm\"          => [6.35085, 6.35085, 6.35085]\n",
       "  \"xs\"          => [6.11975e-7 -4.14779e-9 -4.14779e-9; -4.14779e-9 6.11975e-7 …\n",
       "  \"bus\"         => \"sourcebus\""
      ]
     },
     "execution_count": 26,
     "metadata": {},
     "output_type": "execute_result"
    }
   ],
   "source": [
    "eng[\"voltage_source\"][\"source\"]"
   ]
  },
  {
   "cell_type": "code",
   "execution_count": 27,
   "metadata": {},
   "outputs": [
    {
     "data": {
      "text/plain": [
       "Dict{String,Any} with 6 entries:\n",
       "  \"source_id\"   => \"vsource.source\"\n",
       "  \"va\"          => [0.0, -120.0, 120.0]\n",
       "  \"status\"      => 1\n",
       "  \"connections\" => [1, 2, 3]\n",
       "  \"vm\"          => [6.35085, 6.35085, 6.35085]\n",
       "  \"bus\"         => \"sourcebus\""
      ]
     },
     "execution_count": 27,
     "metadata": {},
     "output_type": "execute_result"
    }
   ],
   "source": [
    "eng_lossless[\"voltage_source\"][\"source\"]"
   ]
  },
  {
   "cell_type": "code",
   "execution_count": 28,
   "metadata": {},
   "outputs": [
    {
     "name": "stdout",
     "output_type": "stream",
     "text": [
      "\u001b[32m[info | PowerModels]: Circuit has been reset with the \"clear\" on line 1 in \"ut_trans_3w_dyy_1.dss\"\u001b[39m\n",
      "\u001b[35m[warn | PowerModels]: Command \"calcvoltagebases\" on line 36 in \"ut_trans_3w_dyy_1.dss\" is not supported, skipping.\u001b[39m\n",
      "\u001b[35m[warn | PowerModels]: Command \"solve\" on line 39 in \"ut_trans_3w_dyy_1.dss\" is not supported, skipping.\u001b[39m\n"
     ]
    },
    {
     "data": {
      "text/plain": [
       "Dict{String,Any} with 17 entries:\n",
       "  \"polarity\"      => [1, 1, 1]\n",
       "  \"connections\"   => Array{Int64,1}[[1, 2, 3], [1, 2, 3, 4], [1, 2, 3, 4]]\n",
       "  \"tm_min\"        => Array{Float64,1}[[0.9, 0.9, 0.9], [0.9, 0.9, 0.9], [0.9, 0…\n",
       "  \"tm_step\"       => Array{Float64,1}[[0.03125, 0.03125, 0.03125], [0.03125, 0.…\n",
       "  \"bus\"           => [\"1\", \"2\", \"3\"]\n",
       "  \"configuration\" => [\"delta\", \"wye\", \"wye\"]\n",
       "  \"noloadloss\"    => 0.05\n",
       "  \"xsc\"           => Any[0.05, 0.04, 0.03]\n",
       "  \"source_id\"     => \"transformer.tx1\"\n",
       "  \"snom\"          => [500.0, 500.0, 500.0]\n",
       "  \"tm_fix\"        => Array{Int64,1}[[1, 1, 1], [1, 1, 1], [1, 1, 1]]\n",
       "  \"tm\"            => Array{Float64,1}[[1.01, 1.01, 1.01], [1.02, 1.02, 1.02], […\n",
       "  \"tm_max\"        => Array{Float64,1}[[1.1, 1.1, 1.1], [1.1, 1.1, 1.1], [1.1, 1…\n",
       "  \"rs\"            => [0.01, 0.02, 0.03]\n",
       "  \"fixed\"         => Array{Bool,1}[[1, 1, 1], [1, 1, 1], [1, 1, 1]]\n",
       "  \"imag\"          => 0.11\n",
       "  \"vnom\"          => [11.0, 4.0, 0.4]"
      ]
     },
     "execution_count": 28,
     "metadata": {},
     "output_type": "execute_result"
    }
   ],
   "source": [
    "eng_tr = parse_file(\"../test/data/opendss/ut_trans_3w_dyy_1.dss\"; data_model=\"engineering\")\n",
    "\n",
    "eng_tr[\"transformer\"][\"tx1\"]"
   ]
  },
  {
   "cell_type": "code",
   "execution_count": 29,
   "metadata": {},
   "outputs": [
    {
     "name": "stdout",
     "output_type": "stream",
     "text": [
      "\u001b[32m[info | PowerModels]: Circuit has been reset with the \"clear\" on line 1 in \"ut_trans_3w_dyy_1.dss\"\u001b[39m\n",
      "\u001b[35m[warn | PowerModels]: Command \"calcvoltagebases\" on line 36 in \"ut_trans_3w_dyy_1.dss\" is not supported, skipping.\u001b[39m\n",
      "\u001b[35m[warn | PowerModels]: Command \"solve\" on line 39 in \"ut_trans_3w_dyy_1.dss\" is not supported, skipping.\u001b[39m\n",
      "\u001b[35m[warn | PowerModels]: Updated generator 1 cost function with order 3 to a function of order 2: [0.1, 0.0]\u001b[39m\n"
     ]
    },
    {
     "data": {
      "text/plain": [
       "Dict{String,Any} with 3 entries:\n",
       "  \"1\" => Dict{String,Any}(\"polarity\"=>1,\"tm_min\"=>[0.9, 0.9, 0.9],\"t_vbase\"=>0.…\n",
       "  \"2\" => Dict{String,Any}(\"polarity\"=>1,\"tm_min\"=>[0.9, 0.9, 0.9],\"t_vbase\"=>0.…\n",
       "  \"3\" => Dict{String,Any}(\"polarity\"=>1,\"tm_min\"=>[0.9, 0.9, 0.9],\"t_vbase\"=>0.…"
      ]
     },
     "execution_count": 29,
     "metadata": {},
     "output_type": "execute_result"
    }
   ],
   "source": [
    "math_tr = parse_file(\"../test/data/opendss/ut_trans_3w_dyy_1.dss\"; data_model=\"mathematical\")\n",
    "\n",
    "math_tr[\"transformer\"]"
   ]
  },
  {
   "cell_type": "code",
   "execution_count": 30,
   "metadata": {},
   "outputs": [
    {
     "data": {
      "text/plain": [
       "Dict{String,Any} with 17 entries:\n",
       "  \"polarity\"      => 1\n",
       "  \"tm_min\"        => [0.9, 0.9, 0.9]\n",
       "  \"t_vbase\"       => 0.57735\n",
       "  \"tm_step\"       => [0.03125, 0.03125, 0.03125]\n",
       "  \"f_connections\" => [1, 2, 3]\n",
       "  \"configuration\" => \"delta\"\n",
       "  \"name\"          => \"_virtual_transformer.tx1.1\"\n",
       "  \"tm_nom\"        => 1.73205\n",
       "  \"source_id\"     => \"_virtual_transformer.transformer.tx1.1\"\n",
       "  \"t_connections\" => [1, 2, 3, 4]\n",
       "  \"f_bus\"         => 1\n",
       "  \"tm\"            => [1.01, 1.01, 1.01]\n",
       "  \"t_bus\"         => 10\n",
       "  \"tm_max\"        => [1.1, 1.1, 1.1]\n",
       "  \"index\"         => 1\n",
       "  \"fixed\"         => Bool[1, 1, 1]\n",
       "  \"f_vbase\"       => 6.35085"
      ]
     },
     "execution_count": 30,
     "metadata": {},
     "output_type": "execute_result"
    }
   ],
   "source": [
    "math_tr[\"transformer\"][\"1\"]"
   ]
  },
  {
   "cell_type": "code",
   "execution_count": 31,
   "metadata": {},
   "outputs": [
    {
     "data": {
      "text/plain": [
       "Dict{String,Any} with 17 entries:\n",
       "  \"polarity\"      => 1\n",
       "  \"tm_min\"        => [0.9, 0.9, 0.9]\n",
       "  \"t_vbase\"       => 0.57735\n",
       "  \"tm_step\"       => [0.03125, 0.03125, 0.03125]\n",
       "  \"f_connections\" => [1, 2, 3, 4]\n",
       "  \"configuration\" => \"wye\"\n",
       "  \"name\"          => \"_virtual_transformer.tx1.2\"\n",
       "  \"tm_nom\"        => 1.0\n",
       "  \"source_id\"     => \"_virtual_transformer.transformer.tx1.2\"\n",
       "  \"t_connections\" => [1, 2, 3, 4]\n",
       "  \"f_bus\"         => 3\n",
       "  \"tm\"            => [1.02, 1.02, 1.02]\n",
       "  \"t_bus\"         => 6\n",
       "  \"tm_max\"        => [1.1, 1.1, 1.1]\n",
       "  \"index\"         => 2\n",
       "  \"fixed\"         => Bool[1, 1, 1]\n",
       "  \"f_vbase\"       => 2.3094"
      ]
     },
     "execution_count": 31,
     "metadata": {},
     "output_type": "execute_result"
    }
   ],
   "source": [
    "math_tr[\"transformer\"][\"2\"]"
   ]
  },
  {
   "cell_type": "code",
   "execution_count": 32,
   "metadata": {},
   "outputs": [
    {
     "data": {
      "text/plain": [
       "Dict{String,Any} with 17 entries:\n",
       "  \"polarity\"      => 1\n",
       "  \"tm_min\"        => [0.9, 0.9, 0.9]\n",
       "  \"t_vbase\"       => 0.57735\n",
       "  \"tm_step\"       => [0.03125, 0.03125, 0.03125]\n",
       "  \"f_connections\" => [1, 2, 3, 4]\n",
       "  \"configuration\" => \"wye\"\n",
       "  \"name\"          => \"_virtual_transformer.tx1.3\"\n",
       "  \"tm_nom\"        => 1.0\n",
       "  \"source_id\"     => \"_virtual_transformer.transformer.tx1.3\"\n",
       "  \"t_connections\" => [1, 2, 3, 4]\n",
       "  \"f_bus\"         => 4\n",
       "  \"tm\"            => [1.03, 1.03, 1.03]\n",
       "  \"t_bus\"         => 7\n",
       "  \"tm_max\"        => [1.1, 1.1, 1.1]\n",
       "  \"index\"         => 3\n",
       "  \"fixed\"         => Bool[1, 1, 1]\n",
       "  \"f_vbase\"       => 0.23094"
      ]
     },
     "execution_count": 32,
     "metadata": {},
     "output_type": "execute_result"
    }
   ],
   "source": [
    "math_tr[\"transformer\"][\"3\"]"
   ]
  },
  {
   "cell_type": "code",
   "execution_count": 33,
   "metadata": {},
   "outputs": [
    {
     "name": "stdout",
     "output_type": "stream",
     "text": [
      "\u001b[35m[warn | PowerModels]: Updated generator 1 cost function with order 3 to a function of order 2: [1.0, 0.0]\u001b[39m\n"
     ]
    },
    {
     "data": {
      "text/plain": [
       "Dict{String,Any} with 10 entries:\n",
       "  \"solve_time\"         => 0.010365\n",
       "  \"optimizer\"          => \"Ipopt\"\n",
       "  \"termination_status\" => LOCALLY_SOLVED\n",
       "  \"dual_status\"        => FEASIBLE_POINT\n",
       "  \"primal_status\"      => FEASIBLE_POINT\n",
       "  \"objective\"          => 0.0\n",
       "  \"solution\"           => Dict{String,Any}(\"voltage_source\"=>Dict{Any,Any}(\"sou…\n",
       "  \"data\"               => Dict{String,Any}(\"name\"=>\"ut_trans\")\n",
       "  \"machine\"            => Dict(\"cpu\"=>\"Intel(R) Core(TM) i7-7920HQ CPU @ 3.10GH…\n",
       "  \"objective_lb\"       => -Inf"
      ]
     },
     "execution_count": 33,
     "metadata": {},
     "output_type": "execute_result"
    }
   ],
   "source": [
    "result_eng_pu = run_mc_pf(eng, ACPPowerModel, ipopt_solver; make_si=false)"
   ]
  },
  {
   "cell_type": "code",
   "execution_count": 34,
   "metadata": {},
   "outputs": [
    {
     "data": {
      "text/plain": [
       "Dict{String,Any} with 2 entries:\n",
       "  \"va\" => [-8.75226e-8, -120.0, 120.0]\n",
       "  \"vm\" => [6.35085, 6.35085, 6.35085]"
      ]
     },
     "execution_count": 34,
     "metadata": {},
     "output_type": "execute_result"
    }
   ],
   "source": [
    "result_eng[\"solution\"][\"bus\"][\"sourcebus\"]"
   ]
  },
  {
   "cell_type": "code",
   "execution_count": 35,
   "metadata": {},
   "outputs": [
    {
     "data": {
      "text/plain": [
       "Dict{String,Any} with 2 entries:\n",
       "  \"va\" => [-8.75226e-8, -120.0, 120.0]\n",
       "  \"vm\" => [1.0, 1.0, 1.0]"
      ]
     },
     "execution_count": 35,
     "metadata": {},
     "output_type": "execute_result"
    }
   ],
   "source": [
    "result_eng_pu[\"solution\"][\"bus\"][\"sourcebus\"]"
   ]
  },
  {
   "cell_type": "code",
   "execution_count": null,
   "metadata": {},
   "outputs": [],
   "source": []
  }
 ],
 "metadata": {
  "kernelspec": {
   "display_name": "Julia 1.3.1",
   "language": "julia",
   "name": "julia-1.3"
  },
  "language_info": {
   "file_extension": ".jl",
   "mimetype": "application/julia",
   "name": "julia",
   "version": "1.3.1"
  },
  "varInspector": {
   "cols": {
    "lenName": 16,
    "lenType": 16,
    "lenVar": 40
   },
   "kernels_config": {
    "python": {
     "delete_cmd_postfix": "",
     "delete_cmd_prefix": "del ",
     "library": "var_list.py",
     "varRefreshCmd": "print(var_dic_list())"
    },
    "r": {
     "delete_cmd_postfix": ") ",
     "delete_cmd_prefix": "rm(",
     "library": "var_list.r",
     "varRefreshCmd": "cat(var_dic_list()) "
    }
   },
   "types_to_exclude": [
    "module",
    "function",
    "builtin_function_or_method",
    "instance",
    "_Feature"
   ],
   "window_display": false
  }
 },
 "nbformat": 4,
 "nbformat_minor": 2
}
